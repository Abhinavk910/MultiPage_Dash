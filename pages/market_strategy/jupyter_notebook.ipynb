{
 "cells": [
  {
   "cell_type": "code",
   "execution_count": 1,
   "metadata": {},
   "outputs": [],
   "source": [
    "from datetime import date, timedelta, datetime\n",
    "import plotly.express as px\n",
    "import plotly.graph_objs as go\n",
    "import pandas as pd\n",
    "import yfinance as yf\n",
    "import base64\n",
    "import io\n",
    "import warnings\n",
    "warnings.filterwarnings('ignore')\n",
    "from icecream import ic\n",
    "def time_format():\n",
    "    return f'{datetime.now()}|> '\n",
    "ic.configureOutput(includeContext=False)"
   ]
  },
  {
   "cell_type": "code",
   "execution_count": 2,
   "metadata": {},
   "outputs": [],
   "source": [
    "def get_stock_data(stock, start_date):\n",
    "    end_date = (date.today() - timedelta(days=1)).strftime('%Y-%m-%d')\n",
    "    data = yf.download([stock], start=start_date, end=end_date)\n",
    "    if data.shape[0] == 0:\n",
    "        return data\n",
    "    df = pd.date_range(start_date, end_date).to_frame()\n",
    "    df=df.join(data)\n",
    "    df['Symbol'] = stock\n",
    "    df.rename(columns={0:'Date'}, inplace=True)\n",
    "    return df"
   ]
  },
  {
   "cell_type": "code",
   "execution_count": 4,
   "metadata": {},
   "outputs": [],
   "source": [
    "# get_stock_data('')\n"
   ]
  },
  {
   "cell_type": "code",
   "execution_count": 5,
   "metadata": {},
   "outputs": [
    {
     "name": "stdout",
     "output_type": "stream",
     "text": [
      "[*********************100%%**********************]  1 of 1 completed\n"
     ]
    }
   ],
   "source": [
    "df = get_stock_data('NTPC.NS', '2023-10-09')"
   ]
  },
  {
   "cell_type": "code",
   "execution_count": 6,
   "metadata": {},
   "outputs": [
    {
     "data": {
      "text/html": [
       "<div>\n",
       "<style scoped>\n",
       "    .dataframe tbody tr th:only-of-type {\n",
       "        vertical-align: middle;\n",
       "    }\n",
       "\n",
       "    .dataframe tbody tr th {\n",
       "        vertical-align: top;\n",
       "    }\n",
       "\n",
       "    .dataframe thead th {\n",
       "        text-align: right;\n",
       "    }\n",
       "</style>\n",
       "<table border=\"1\" class=\"dataframe\">\n",
       "  <thead>\n",
       "    <tr style=\"text-align: right;\">\n",
       "      <th></th>\n",
       "      <th>Date</th>\n",
       "      <th>Open</th>\n",
       "      <th>High</th>\n",
       "      <th>Low</th>\n",
       "      <th>Close</th>\n",
       "      <th>Adj Close</th>\n",
       "      <th>Volume</th>\n",
       "      <th>Symbol</th>\n",
       "    </tr>\n",
       "  </thead>\n",
       "  <tbody>\n",
       "    <tr>\n",
       "      <th>2023-10-09</th>\n",
       "      <td>2023-10-09</td>\n",
       "      <td>233.850006</td>\n",
       "      <td>236.300003</td>\n",
       "      <td>230.500000</td>\n",
       "      <td>234.699997</td>\n",
       "      <td>232.455261</td>\n",
       "      <td>10659145.0</td>\n",
       "      <td>NTPC.NS</td>\n",
       "    </tr>\n",
       "    <tr>\n",
       "      <th>2023-10-10</th>\n",
       "      <td>2023-10-10</td>\n",
       "      <td>234.899994</td>\n",
       "      <td>236.850006</td>\n",
       "      <td>233.750000</td>\n",
       "      <td>235.899994</td>\n",
       "      <td>233.643784</td>\n",
       "      <td>11665907.0</td>\n",
       "      <td>NTPC.NS</td>\n",
       "    </tr>\n",
       "    <tr>\n",
       "      <th>2023-10-11</th>\n",
       "      <td>2023-10-11</td>\n",
       "      <td>236.250000</td>\n",
       "      <td>239.699997</td>\n",
       "      <td>236.000000</td>\n",
       "      <td>238.699997</td>\n",
       "      <td>236.417007</td>\n",
       "      <td>14313043.0</td>\n",
       "      <td>NTPC.NS</td>\n",
       "    </tr>\n",
       "    <tr>\n",
       "      <th>2023-10-12</th>\n",
       "      <td>2023-10-12</td>\n",
       "      <td>238.949997</td>\n",
       "      <td>242.750000</td>\n",
       "      <td>238.600006</td>\n",
       "      <td>241.600006</td>\n",
       "      <td>239.289276</td>\n",
       "      <td>13170027.0</td>\n",
       "      <td>NTPC.NS</td>\n",
       "    </tr>\n",
       "    <tr>\n",
       "      <th>2023-10-13</th>\n",
       "      <td>2023-10-13</td>\n",
       "      <td>240.550003</td>\n",
       "      <td>243.800003</td>\n",
       "      <td>239.600006</td>\n",
       "      <td>242.050003</td>\n",
       "      <td>239.734970</td>\n",
       "      <td>11880728.0</td>\n",
       "      <td>NTPC.NS</td>\n",
       "    </tr>\n",
       "    <tr>\n",
       "      <th>...</th>\n",
       "      <td>...</td>\n",
       "      <td>...</td>\n",
       "      <td>...</td>\n",
       "      <td>...</td>\n",
       "      <td>...</td>\n",
       "      <td>...</td>\n",
       "      <td>...</td>\n",
       "      <td>...</td>\n",
       "    </tr>\n",
       "    <tr>\n",
       "      <th>2024-01-22</th>\n",
       "      <td>2024-01-22</td>\n",
       "      <td>308.450012</td>\n",
       "      <td>308.450012</td>\n",
       "      <td>308.450012</td>\n",
       "      <td>308.450012</td>\n",
       "      <td>308.450012</td>\n",
       "      <td>0.0</td>\n",
       "      <td>NTPC.NS</td>\n",
       "    </tr>\n",
       "    <tr>\n",
       "      <th>2024-01-23</th>\n",
       "      <td>2024-01-23</td>\n",
       "      <td>313.450012</td>\n",
       "      <td>315.299988</td>\n",
       "      <td>300.299988</td>\n",
       "      <td>302.600006</td>\n",
       "      <td>302.600006</td>\n",
       "      <td>21652362.0</td>\n",
       "      <td>NTPC.NS</td>\n",
       "    </tr>\n",
       "    <tr>\n",
       "      <th>2024-01-24</th>\n",
       "      <td>2024-01-24</td>\n",
       "      <td>302.950012</td>\n",
       "      <td>310.700012</td>\n",
       "      <td>298.250000</td>\n",
       "      <td>308.850006</td>\n",
       "      <td>308.850006</td>\n",
       "      <td>23922028.0</td>\n",
       "      <td>NTPC.NS</td>\n",
       "    </tr>\n",
       "    <tr>\n",
       "      <th>2024-01-25</th>\n",
       "      <td>2024-01-25</td>\n",
       "      <td>310.000000</td>\n",
       "      <td>317.200012</td>\n",
       "      <td>309.200012</td>\n",
       "      <td>314.750000</td>\n",
       "      <td>314.750000</td>\n",
       "      <td>32525422.0</td>\n",
       "      <td>NTPC.NS</td>\n",
       "    </tr>\n",
       "    <tr>\n",
       "      <th>2024-01-26</th>\n",
       "      <td>2024-01-26</td>\n",
       "      <td>NaN</td>\n",
       "      <td>NaN</td>\n",
       "      <td>NaN</td>\n",
       "      <td>NaN</td>\n",
       "      <td>NaN</td>\n",
       "      <td>NaN</td>\n",
       "      <td>NTPC.NS</td>\n",
       "    </tr>\n",
       "  </tbody>\n",
       "</table>\n",
       "<p>110 rows × 8 columns</p>\n",
       "</div>"
      ],
      "text/plain": [
       "                 Date        Open        High         Low       Close  \\\n",
       "2023-10-09 2023-10-09  233.850006  236.300003  230.500000  234.699997   \n",
       "2023-10-10 2023-10-10  234.899994  236.850006  233.750000  235.899994   \n",
       "2023-10-11 2023-10-11  236.250000  239.699997  236.000000  238.699997   \n",
       "2023-10-12 2023-10-12  238.949997  242.750000  238.600006  241.600006   \n",
       "2023-10-13 2023-10-13  240.550003  243.800003  239.600006  242.050003   \n",
       "...               ...         ...         ...         ...         ...   \n",
       "2024-01-22 2024-01-22  308.450012  308.450012  308.450012  308.450012   \n",
       "2024-01-23 2024-01-23  313.450012  315.299988  300.299988  302.600006   \n",
       "2024-01-24 2024-01-24  302.950012  310.700012  298.250000  308.850006   \n",
       "2024-01-25 2024-01-25  310.000000  317.200012  309.200012  314.750000   \n",
       "2024-01-26 2024-01-26         NaN         NaN         NaN         NaN   \n",
       "\n",
       "             Adj Close      Volume   Symbol  \n",
       "2023-10-09  232.455261  10659145.0  NTPC.NS  \n",
       "2023-10-10  233.643784  11665907.0  NTPC.NS  \n",
       "2023-10-11  236.417007  14313043.0  NTPC.NS  \n",
       "2023-10-12  239.289276  13170027.0  NTPC.NS  \n",
       "2023-10-13  239.734970  11880728.0  NTPC.NS  \n",
       "...                ...         ...      ...  \n",
       "2024-01-22  308.450012         0.0  NTPC.NS  \n",
       "2024-01-23  302.600006  21652362.0  NTPC.NS  \n",
       "2024-01-24  308.850006  23922028.0  NTPC.NS  \n",
       "2024-01-25  314.750000  32525422.0  NTPC.NS  \n",
       "2024-01-26         NaN         NaN  NTPC.NS  \n",
       "\n",
       "[110 rows x 8 columns]"
      ]
     },
     "execution_count": 6,
     "metadata": {},
     "output_type": "execute_result"
    }
   ],
   "source": [
    "df"
   ]
  },
  {
   "cell_type": "code",
   "execution_count": 7,
   "metadata": {},
   "outputs": [],
   "source": [
    "ohlc_dict = {\n",
    "    'Open':'first',\n",
    "    'High':'max',\n",
    "    'Low':'min',\n",
    "    'Close':'last',\n",
    "    'Volume':'sum'\n",
    "    }\n",
    "\n",
    "dfw = df.resample('W-Fri').agg(ohlc_dict)"
   ]
  },
  {
   "cell_type": "code",
   "execution_count": 8,
   "metadata": {},
   "outputs": [],
   "source": [
    "vol = dfw.Volume.to_frame()\n",
    "vol['shift1'] = vol['Volume'].shift(1)\n",
    "vol['shift2'] = vol['Volume'].shift(2)\n",
    "\n",
    "\n",
    "vol['case1'] = vol.apply(lambda x: x[0]<=x[1]*1.2 and x[1]<=x[2]*1.2, axis=1)"
   ]
  },
  {
   "cell_type": "code",
   "execution_count": 9,
   "metadata": {},
   "outputs": [
    {
     "data": {
      "text/plain": [
       "2"
      ]
     },
     "execution_count": 9,
     "metadata": {},
     "output_type": "execute_result"
    }
   ],
   "source": [
    "case1 = vol.loc[vol['case1']]\n",
    "len(case1)"
   ]
  },
  {
   "cell_type": "code",
   "execution_count": 10,
   "metadata": {},
   "outputs": [],
   "source": [
    "hldf = dfw[['High', 'Low']]\n",
    "hldf['highshift1'] = hldf['High'].shift(1)\n",
    "hldf['highshift2'] = hldf['High'].shift(2)\n",
    "hldf['lowshift1'] = hldf['Low'].shift(1)\n",
    "hldf['lowshift2'] = hldf['Low'].shift(2)\n",
    "hldf['case2'] = hldf.apply(lambda x: x['High']<=x['highshift1']*1.02 and x['highshift1']<=x['highshift2']*1.02 and x['Low']>=x['lowshift1']*0.98 and x['lowshift1']>=x['lowshift2']*0.98, axis=1)"
   ]
  },
  {
   "cell_type": "code",
   "execution_count": 11,
   "metadata": {},
   "outputs": [],
   "source": [
    "case2 = hldf.loc[hldf.case2]"
   ]
  },
  {
   "cell_type": "code",
   "execution_count": 12,
   "metadata": {},
   "outputs": [],
   "source": [
    "final_case = case1.join(case2, how='inner')"
   ]
  },
  {
   "cell_type": "code",
   "execution_count": 273,
   "metadata": {},
   "outputs": [],
   "source": [
    "# final_case.index.tolist()"
   ]
  },
  {
   "cell_type": "code",
   "execution_count": 13,
   "metadata": {},
   "outputs": [
    {
     "data": {
      "application/vnd.plotly.v1+json": {
       "config": {
        "plotlyServerURL": "https://plot.ly"
       },
       "data": [
        {
         "close": [
          242.0500030517578,
          241,
          236.60000610351562,
          234.35000610351562,
          242.75,
          251.60000610351562,
          253.89999389648438,
          268.95001220703125,
          285.04998779296875,
          305.1000061035156,
          302.79998779296875,
          311.1499938964844,
          314.95001220703125,
          312.6499938964844,
          308.45001220703125,
          314.75
         ],
         "high": [
          243.8000030517578,
          247.1999969482422,
          240.89999389648438,
          238.39999389648438,
          243.25,
          254.25,
          256.8500061035156,
          275.45001220703125,
          291.8999938964844,
          307,
          313.3500061035156,
          315.5,
          325.6499938964844,
          321.45001220703125,
          318,
          317.20001220703125
         ],
         "low": [
          230.5,
          237.5500030517578,
          227.75,
          230.64999389648438,
          234.5500030517578,
          243.3000030517578,
          247.3000030517578,
          253.64999389648438,
          272.79998779296875,
          280.8500061035156,
          293.20001220703125,
          303.54998779296875,
          302.04998779296875,
          308,
          296.54998779296875,
          298.25
         ],
         "name": "",
         "open": [
          233.85000610351562,
          242.85000610351562,
          240.8000030517578,
          237.4499969482422,
          235.35000610351562,
          244.9499969482422,
          251,
          254.85000610351562,
          276,
          286.04998779296875,
          306,
          306.45001220703125,
          312,
          316.45001220703125,
          314.8999938964844,
          308.45001220703125
         ],
         "type": "candlestick",
         "x": [
          "2023-10-13T00:00:00",
          "2023-10-20T00:00:00",
          "2023-10-27T00:00:00",
          "2023-11-03T00:00:00",
          "2023-11-10T00:00:00",
          "2023-11-17T00:00:00",
          "2023-11-24T00:00:00",
          "2023-12-01T00:00:00",
          "2023-12-08T00:00:00",
          "2023-12-15T00:00:00",
          "2023-12-22T00:00:00",
          "2023-12-29T00:00:00",
          "2024-01-05T00:00:00",
          "2024-01-12T00:00:00",
          "2024-01-19T00:00:00",
          "2024-01-26T00:00:00"
         ],
         "xaxis": "x",
         "yaxis": "y"
        },
        {
         "type": "bar",
         "x": [
          "2023-10-13T00:00:00",
          "2023-10-20T00:00:00",
          "2023-10-27T00:00:00",
          "2023-11-03T00:00:00",
          "2023-11-10T00:00:00",
          "2023-11-17T00:00:00",
          "2023-11-24T00:00:00",
          "2023-12-01T00:00:00",
          "2023-12-08T00:00:00",
          "2023-12-15T00:00:00",
          "2023-12-22T00:00:00",
          "2023-12-29T00:00:00",
          "2024-01-05T00:00:00",
          "2024-01-12T00:00:00",
          "2024-01-19T00:00:00",
          "2024-01-26T00:00:00"
         ],
         "xaxis": "x2",
         "y": [
          61688850,
          44534608,
          58937558,
          34996841,
          45695671,
          57522689,
          33760587,
          65597941,
          98711766,
          94086229,
          85531636,
          72822717,
          103304908,
          59478927,
          94504151,
          78099812
         ],
         "yaxis": "y2"
        }
       ],
       "layout": {
        "margin": {
         "b": 0,
         "l": 0,
         "t": 0
        },
        "template": {
         "data": {
          "bar": [
           {
            "error_x": {
             "color": "#2a3f5f"
            },
            "error_y": {
             "color": "#2a3f5f"
            },
            "marker": {
             "line": {
              "color": "#E5ECF6",
              "width": 0.5
             },
             "pattern": {
              "fillmode": "overlay",
              "size": 10,
              "solidity": 0.2
             }
            },
            "type": "bar"
           }
          ],
          "barpolar": [
           {
            "marker": {
             "line": {
              "color": "#E5ECF6",
              "width": 0.5
             },
             "pattern": {
              "fillmode": "overlay",
              "size": 10,
              "solidity": 0.2
             }
            },
            "type": "barpolar"
           }
          ],
          "carpet": [
           {
            "aaxis": {
             "endlinecolor": "#2a3f5f",
             "gridcolor": "white",
             "linecolor": "white",
             "minorgridcolor": "white",
             "startlinecolor": "#2a3f5f"
            },
            "baxis": {
             "endlinecolor": "#2a3f5f",
             "gridcolor": "white",
             "linecolor": "white",
             "minorgridcolor": "white",
             "startlinecolor": "#2a3f5f"
            },
            "type": "carpet"
           }
          ],
          "choropleth": [
           {
            "colorbar": {
             "outlinewidth": 0,
             "ticks": ""
            },
            "type": "choropleth"
           }
          ],
          "contour": [
           {
            "colorbar": {
             "outlinewidth": 0,
             "ticks": ""
            },
            "colorscale": [
             [
              0,
              "#0d0887"
             ],
             [
              0.1111111111111111,
              "#46039f"
             ],
             [
              0.2222222222222222,
              "#7201a8"
             ],
             [
              0.3333333333333333,
              "#9c179e"
             ],
             [
              0.4444444444444444,
              "#bd3786"
             ],
             [
              0.5555555555555556,
              "#d8576b"
             ],
             [
              0.6666666666666666,
              "#ed7953"
             ],
             [
              0.7777777777777778,
              "#fb9f3a"
             ],
             [
              0.8888888888888888,
              "#fdca26"
             ],
             [
              1,
              "#f0f921"
             ]
            ],
            "type": "contour"
           }
          ],
          "contourcarpet": [
           {
            "colorbar": {
             "outlinewidth": 0,
             "ticks": ""
            },
            "type": "contourcarpet"
           }
          ],
          "heatmap": [
           {
            "colorbar": {
             "outlinewidth": 0,
             "ticks": ""
            },
            "colorscale": [
             [
              0,
              "#0d0887"
             ],
             [
              0.1111111111111111,
              "#46039f"
             ],
             [
              0.2222222222222222,
              "#7201a8"
             ],
             [
              0.3333333333333333,
              "#9c179e"
             ],
             [
              0.4444444444444444,
              "#bd3786"
             ],
             [
              0.5555555555555556,
              "#d8576b"
             ],
             [
              0.6666666666666666,
              "#ed7953"
             ],
             [
              0.7777777777777778,
              "#fb9f3a"
             ],
             [
              0.8888888888888888,
              "#fdca26"
             ],
             [
              1,
              "#f0f921"
             ]
            ],
            "type": "heatmap"
           }
          ],
          "heatmapgl": [
           {
            "colorbar": {
             "outlinewidth": 0,
             "ticks": ""
            },
            "colorscale": [
             [
              0,
              "#0d0887"
             ],
             [
              0.1111111111111111,
              "#46039f"
             ],
             [
              0.2222222222222222,
              "#7201a8"
             ],
             [
              0.3333333333333333,
              "#9c179e"
             ],
             [
              0.4444444444444444,
              "#bd3786"
             ],
             [
              0.5555555555555556,
              "#d8576b"
             ],
             [
              0.6666666666666666,
              "#ed7953"
             ],
             [
              0.7777777777777778,
              "#fb9f3a"
             ],
             [
              0.8888888888888888,
              "#fdca26"
             ],
             [
              1,
              "#f0f921"
             ]
            ],
            "type": "heatmapgl"
           }
          ],
          "histogram": [
           {
            "marker": {
             "pattern": {
              "fillmode": "overlay",
              "size": 10,
              "solidity": 0.2
             }
            },
            "type": "histogram"
           }
          ],
          "histogram2d": [
           {
            "colorbar": {
             "outlinewidth": 0,
             "ticks": ""
            },
            "colorscale": [
             [
              0,
              "#0d0887"
             ],
             [
              0.1111111111111111,
              "#46039f"
             ],
             [
              0.2222222222222222,
              "#7201a8"
             ],
             [
              0.3333333333333333,
              "#9c179e"
             ],
             [
              0.4444444444444444,
              "#bd3786"
             ],
             [
              0.5555555555555556,
              "#d8576b"
             ],
             [
              0.6666666666666666,
              "#ed7953"
             ],
             [
              0.7777777777777778,
              "#fb9f3a"
             ],
             [
              0.8888888888888888,
              "#fdca26"
             ],
             [
              1,
              "#f0f921"
             ]
            ],
            "type": "histogram2d"
           }
          ],
          "histogram2dcontour": [
           {
            "colorbar": {
             "outlinewidth": 0,
             "ticks": ""
            },
            "colorscale": [
             [
              0,
              "#0d0887"
             ],
             [
              0.1111111111111111,
              "#46039f"
             ],
             [
              0.2222222222222222,
              "#7201a8"
             ],
             [
              0.3333333333333333,
              "#9c179e"
             ],
             [
              0.4444444444444444,
              "#bd3786"
             ],
             [
              0.5555555555555556,
              "#d8576b"
             ],
             [
              0.6666666666666666,
              "#ed7953"
             ],
             [
              0.7777777777777778,
              "#fb9f3a"
             ],
             [
              0.8888888888888888,
              "#fdca26"
             ],
             [
              1,
              "#f0f921"
             ]
            ],
            "type": "histogram2dcontour"
           }
          ],
          "mesh3d": [
           {
            "colorbar": {
             "outlinewidth": 0,
             "ticks": ""
            },
            "type": "mesh3d"
           }
          ],
          "parcoords": [
           {
            "line": {
             "colorbar": {
              "outlinewidth": 0,
              "ticks": ""
             }
            },
            "type": "parcoords"
           }
          ],
          "pie": [
           {
            "automargin": true,
            "type": "pie"
           }
          ],
          "scatter": [
           {
            "fillpattern": {
             "fillmode": "overlay",
             "size": 10,
             "solidity": 0.2
            },
            "type": "scatter"
           }
          ],
          "scatter3d": [
           {
            "line": {
             "colorbar": {
              "outlinewidth": 0,
              "ticks": ""
             }
            },
            "marker": {
             "colorbar": {
              "outlinewidth": 0,
              "ticks": ""
             }
            },
            "type": "scatter3d"
           }
          ],
          "scattercarpet": [
           {
            "marker": {
             "colorbar": {
              "outlinewidth": 0,
              "ticks": ""
             }
            },
            "type": "scattercarpet"
           }
          ],
          "scattergeo": [
           {
            "marker": {
             "colorbar": {
              "outlinewidth": 0,
              "ticks": ""
             }
            },
            "type": "scattergeo"
           }
          ],
          "scattergl": [
           {
            "marker": {
             "colorbar": {
              "outlinewidth": 0,
              "ticks": ""
             }
            },
            "type": "scattergl"
           }
          ],
          "scattermapbox": [
           {
            "marker": {
             "colorbar": {
              "outlinewidth": 0,
              "ticks": ""
             }
            },
            "type": "scattermapbox"
           }
          ],
          "scatterpolar": [
           {
            "marker": {
             "colorbar": {
              "outlinewidth": 0,
              "ticks": ""
             }
            },
            "type": "scatterpolar"
           }
          ],
          "scatterpolargl": [
           {
            "marker": {
             "colorbar": {
              "outlinewidth": 0,
              "ticks": ""
             }
            },
            "type": "scatterpolargl"
           }
          ],
          "scatterternary": [
           {
            "marker": {
             "colorbar": {
              "outlinewidth": 0,
              "ticks": ""
             }
            },
            "type": "scatterternary"
           }
          ],
          "surface": [
           {
            "colorbar": {
             "outlinewidth": 0,
             "ticks": ""
            },
            "colorscale": [
             [
              0,
              "#0d0887"
             ],
             [
              0.1111111111111111,
              "#46039f"
             ],
             [
              0.2222222222222222,
              "#7201a8"
             ],
             [
              0.3333333333333333,
              "#9c179e"
             ],
             [
              0.4444444444444444,
              "#bd3786"
             ],
             [
              0.5555555555555556,
              "#d8576b"
             ],
             [
              0.6666666666666666,
              "#ed7953"
             ],
             [
              0.7777777777777778,
              "#fb9f3a"
             ],
             [
              0.8888888888888888,
              "#fdca26"
             ],
             [
              1,
              "#f0f921"
             ]
            ],
            "type": "surface"
           }
          ],
          "table": [
           {
            "cells": {
             "fill": {
              "color": "#EBF0F8"
             },
             "line": {
              "color": "white"
             }
            },
            "header": {
             "fill": {
              "color": "#C8D4E3"
             },
             "line": {
              "color": "white"
             }
            },
            "type": "table"
           }
          ]
         },
         "layout": {
          "annotationdefaults": {
           "arrowcolor": "#2a3f5f",
           "arrowhead": 0,
           "arrowwidth": 1
          },
          "autotypenumbers": "strict",
          "coloraxis": {
           "colorbar": {
            "outlinewidth": 0,
            "ticks": ""
           }
          },
          "colorscale": {
           "diverging": [
            [
             0,
             "#8e0152"
            ],
            [
             0.1,
             "#c51b7d"
            ],
            [
             0.2,
             "#de77ae"
            ],
            [
             0.3,
             "#f1b6da"
            ],
            [
             0.4,
             "#fde0ef"
            ],
            [
             0.5,
             "#f7f7f7"
            ],
            [
             0.6,
             "#e6f5d0"
            ],
            [
             0.7,
             "#b8e186"
            ],
            [
             0.8,
             "#7fbc41"
            ],
            [
             0.9,
             "#4d9221"
            ],
            [
             1,
             "#276419"
            ]
           ],
           "sequential": [
            [
             0,
             "#0d0887"
            ],
            [
             0.1111111111111111,
             "#46039f"
            ],
            [
             0.2222222222222222,
             "#7201a8"
            ],
            [
             0.3333333333333333,
             "#9c179e"
            ],
            [
             0.4444444444444444,
             "#bd3786"
            ],
            [
             0.5555555555555556,
             "#d8576b"
            ],
            [
             0.6666666666666666,
             "#ed7953"
            ],
            [
             0.7777777777777778,
             "#fb9f3a"
            ],
            [
             0.8888888888888888,
             "#fdca26"
            ],
            [
             1,
             "#f0f921"
            ]
           ],
           "sequentialminus": [
            [
             0,
             "#0d0887"
            ],
            [
             0.1111111111111111,
             "#46039f"
            ],
            [
             0.2222222222222222,
             "#7201a8"
            ],
            [
             0.3333333333333333,
             "#9c179e"
            ],
            [
             0.4444444444444444,
             "#bd3786"
            ],
            [
             0.5555555555555556,
             "#d8576b"
            ],
            [
             0.6666666666666666,
             "#ed7953"
            ],
            [
             0.7777777777777778,
             "#fb9f3a"
            ],
            [
             0.8888888888888888,
             "#fdca26"
            ],
            [
             1,
             "#f0f921"
            ]
           ]
          },
          "colorway": [
           "#636efa",
           "#EF553B",
           "#00cc96",
           "#ab63fa",
           "#FFA15A",
           "#19d3f3",
           "#FF6692",
           "#B6E880",
           "#FF97FF",
           "#FECB52"
          ],
          "font": {
           "color": "#2a3f5f"
          },
          "geo": {
           "bgcolor": "white",
           "lakecolor": "white",
           "landcolor": "#E5ECF6",
           "showlakes": true,
           "showland": true,
           "subunitcolor": "white"
          },
          "hoverlabel": {
           "align": "left"
          },
          "hovermode": "closest",
          "mapbox": {
           "style": "light"
          },
          "paper_bgcolor": "white",
          "plot_bgcolor": "#E5ECF6",
          "polar": {
           "angularaxis": {
            "gridcolor": "white",
            "linecolor": "white",
            "ticks": ""
           },
           "bgcolor": "#E5ECF6",
           "radialaxis": {
            "gridcolor": "white",
            "linecolor": "white",
            "ticks": ""
           }
          },
          "scene": {
           "xaxis": {
            "backgroundcolor": "#E5ECF6",
            "gridcolor": "white",
            "gridwidth": 2,
            "linecolor": "white",
            "showbackground": true,
            "ticks": "",
            "zerolinecolor": "white"
           },
           "yaxis": {
            "backgroundcolor": "#E5ECF6",
            "gridcolor": "white",
            "gridwidth": 2,
            "linecolor": "white",
            "showbackground": true,
            "ticks": "",
            "zerolinecolor": "white"
           },
           "zaxis": {
            "backgroundcolor": "#E5ECF6",
            "gridcolor": "white",
            "gridwidth": 2,
            "linecolor": "white",
            "showbackground": true,
            "ticks": "",
            "zerolinecolor": "white"
           }
          },
          "shapedefaults": {
           "line": {
            "color": "#2a3f5f"
           }
          },
          "ternary": {
           "aaxis": {
            "gridcolor": "white",
            "linecolor": "white",
            "ticks": ""
           },
           "baxis": {
            "gridcolor": "white",
            "linecolor": "white",
            "ticks": ""
           },
           "bgcolor": "#E5ECF6",
           "caxis": {
            "gridcolor": "white",
            "linecolor": "white",
            "ticks": ""
           }
          },
          "title": {
           "x": 0.05
          },
          "xaxis": {
           "automargin": true,
           "gridcolor": "white",
           "linecolor": "white",
           "ticks": "",
           "title": {
            "standoff": 15
           },
           "zerolinecolor": "white",
           "zerolinewidth": 2
          },
          "yaxis": {
           "automargin": true,
           "gridcolor": "white",
           "linecolor": "white",
           "ticks": "",
           "title": {
            "standoff": 15
           },
           "zerolinecolor": "white",
           "zerolinewidth": 2
          }
         }
        },
        "xaxis": {
         "anchor": "y",
         "domain": [
          0,
          1
         ],
         "gridcolor": "#3E464E",
         "gridwidth": 1,
         "matches": "x2",
         "rangeslider": {
          "visible": false
         },
         "showgrid": false,
         "showspikes": false,
         "showticklabels": false,
         "spikemode": "across",
         "spikesnap": "cursor",
         "visible": true,
         "zeroline": true,
         "zerolinecolor": "#3E464E",
         "zerolinewidth": 3
        },
        "xaxis2": {
         "anchor": "y2",
         "domain": [
          0,
          1
         ],
         "gridcolor": "#3E464E",
         "gridwidth": 1,
         "rangeslider": {
          "visible": false
         },
         "showgrid": false,
         "showspikes": false,
         "spikemode": "across",
         "spikesnap": "cursor",
         "visible": true,
         "zeroline": true,
         "zerolinecolor": "#3E464E",
         "zerolinewidth": 3
        },
        "yaxis": {
         "anchor": "x",
         "domain": [
          0.2,
          1
         ]
        },
        "yaxis2": {
         "anchor": "x2",
         "domain": [
          0,
          0.2
         ]
        }
       }
      }
     },
     "metadata": {},
     "output_type": "display_data"
    }
   ],
   "source": [
    "from plotly.subplots import make_subplots\n",
    "fig = make_subplots(rows=2, cols=1, row_heights=[0.8,0.2], shared_xaxes=True, vertical_spacing=0)\n",
    "\n",
    "fig.add_trace(go.Candlestick(x=dfw.index,open=dfw['Open'],high=dfw['High'],low=dfw['Low'],close=dfw['Close'],\n",
    "                                            name=''), row=1, col=1)\n",
    "\n",
    "fig.add_trace(go.Bar(x=dfw.index, y=dfw['Volume']), row=2, col=1)\n",
    "\n",
    "for i in final_case.index.tolist():\n",
    "    fig.add_shape(\n",
    "            x0=i, x1=i, y0=0, y1=1, xref='x', yref='paper',\n",
    "            line_width=0.5)\n",
    "    \n",
    "fig.update_xaxes(\n",
    "    visible=True,\n",
    "    rangeslider={'visible':False},\n",
    "    showspikes=False, spikemode='across', spikesnap='cursor',\n",
    "    showgrid=False, zeroline=True, gridwidth=1, gridcolor='#3E464E', zerolinewidth=3, zerolinecolor='#3E464E'\n",
    ")\n",
    "fig.update_layout(\n",
    "    margin={'l':0, 'b':0, 't':0}\n",
    ")\n",
    "\n",
    "fig.show()"
   ]
  },
  {
   "cell_type": "code",
   "execution_count": 104,
   "metadata": {},
   "outputs": [
    {
     "data": {
      "text/plain": [
       "Index(['SYMBOL', 'NAME OF COMPANY', ' SERIES', ' DATE OF LISTING',\n",
       "       ' PAID UP VALUE', ' MARKET LOT', ' ISIN NUMBER', ' FACE VALUE'],\n",
       "      dtype='object')"
      ]
     },
     "execution_count": 104,
     "metadata": {},
     "output_type": "execute_result"
    }
   ],
   "source": [
    "df = pd.read_csv('../../assets/EQUITY_L.csv')\n",
    "df.columns"
   ]
  },
  {
   "cell_type": "code",
   "execution_count": null,
   "metadata": {},
   "outputs": [],
   "source": [
    "df = pd.read_csv('../../assets/EQUITY_L.csv')\n",
    "fd = df.loc[df[' FACE VALUE'] == 10]\n",
    "fd['SYMBOL'].tolist()"
   ]
  },
  {
   "cell_type": "code",
   "execution_count": null,
   "metadata": {},
   "outputs": [],
   "source": [
    "from selenium import webdriver\n",
    "from selenium.webdriver.common.keys import Keys\n",
    "\n",
    "driver = webdriver.Chrome('C:\\\\Users\\\\Hp\\\\Documents\\\\personal\\\\webdriver\\\\chromedriver.exe')"
   ]
  },
  {
   "cell_type": "code",
   "execution_count": 121,
   "metadata": {},
   "outputs": [],
   "source": [
    "from selenium import webdriver\n",
    "from selenium.webdriver.common.by import By\n",
    "browser = webdriver.Chrome()\n",
    "\n",
    "browser.get('https://www.tradingview.com/screener/')\n"
   ]
  },
  {
   "cell_type": "code",
   "execution_count": 149,
   "metadata": {},
   "outputs": [],
   "source": [
    "stocks = browser.find_elements(By.CLASS_NAME, 'tv-data-table__tbody')[1].find_elements(By.TAG_NAME, 'tr')"
   ]
  },
  {
   "cell_type": "code",
   "execution_count": null,
   "metadata": {},
   "outputs": [],
   "source": [
    "stock_data = list()\n",
    "for i in range(len(stocks)):\n",
    "    stock_symbol = stocks[i].find_element(By.CLASS_NAME, 'tv-screener__symbol').text\n",
    "    stock_name = stocks[i].find_element(By.CLASS_NAME, 'tv-screener__description').text\n",
    "    stock_data.append([stock_symbol, stock_name]+[i.text for i in stocks[i].find_elements(By.TAG_NAME, 'td')][1:])\n",
    "\n",
    "\n",
    "stock_data_label = ['Symbol', 'Name', 'Price', 'chg%', 'chg', 'TR', 'Vol', 'Vol_Price', 'Mkt_Cap', 'P/E', 'EPS(TTM)', 'EMP', 'Sector']\n",
    "pd.DataFrame(data = stock_data, columns=stock_data_label)"
   ]
  },
  {
   "cell_type": "code",
   "execution_count": 204,
   "metadata": {},
   "outputs": [],
   "source": [
    "df = pd.DataFrame(data = stock_data, columns=stock_data_label)\n"
   ]
  },
  {
   "cell_type": "code",
   "execution_count": 205,
   "metadata": {},
   "outputs": [],
   "source": [
    "mkt = df.Mkt_Cap.str.split('INR', expand=True)[0]"
   ]
  },
  {
   "cell_type": "code",
   "execution_count": 206,
   "metadata": {},
   "outputs": [],
   "source": [
    "def convert(x):\n",
    "    if 'T' in x:\n",
    "        return float(x[:-1])*100_000\n",
    "    elif 'B' in x:\n",
    "        return float(x[:-1])*100\n",
    "    elif 'M' in x:\n",
    "        return float(x[:-1])*0.1\n",
    "\n",
    "df['Mkt_Cap'] = mkt.map(convert).astype(float)"
   ]
  },
  {
   "cell_type": "code",
   "execution_count": 207,
   "metadata": {},
   "outputs": [],
   "source": [
    "df['Price'] = df.Price.str.split('INR', expand=True)[0].str.split('USD', expand=True)[0].astype(float)"
   ]
  },
  {
   "cell_type": "code",
   "execution_count": 208,
   "metadata": {},
   "outputs": [
    {
     "name": "stdout",
     "output_type": "stream",
     "text": [
      "<class 'pandas.core.frame.DataFrame'>\n",
      "RangeIndex: 2400 entries, 0 to 2399\n",
      "Data columns (total 13 columns):\n",
      " #   Column     Non-Null Count  Dtype  \n",
      "---  ------     --------------  -----  \n",
      " 0   Symbol     2400 non-null   object \n",
      " 1   Name       2400 non-null   object \n",
      " 2   Price      2400 non-null   float64\n",
      " 3   chg%       2400 non-null   object \n",
      " 4   chg        2400 non-null   object \n",
      " 5   TR         2400 non-null   object \n",
      " 6   Vol        2400 non-null   object \n",
      " 7   Vol_Price  2400 non-null   object \n",
      " 8   Mkt_Cap    2400 non-null   float64\n",
      " 9   P/E        2400 non-null   object \n",
      " 10  EPS(TTM)   2400 non-null   object \n",
      " 11  EMP        2400 non-null   object \n",
      " 12  Sector     2400 non-null   object \n",
      "dtypes: float64(2), object(11)\n",
      "memory usage: 243.9+ KB\n"
     ]
    }
   ],
   "source": [
    "df.info()"
   ]
  },
  {
   "cell_type": "code",
   "execution_count": 214,
   "metadata": {},
   "outputs": [],
   "source": [
    "df.to_csv('../../assets/stock_data2.csv', index=False)"
   ]
  },
  {
   "cell_type": "code",
   "execution_count": 213,
   "metadata": {},
   "outputs": [],
   "source": [
    "df['Symbol'] = df.Symbol.apply(lambda x:x+\".NS\")"
   ]
  },
  {
   "cell_type": "code",
   "execution_count": 14,
   "metadata": {},
   "outputs": [
    {
     "ename": "FileNotFoundError",
     "evalue": "[Errno 2] No such file or directory: '../../assets/stock_data2.csv'",
     "output_type": "error",
     "traceback": [
      "\u001b[1;31m---------------------------------------------------------------------------\u001b[0m",
      "\u001b[1;31mFileNotFoundError\u001b[0m                         Traceback (most recent call last)",
      "Cell \u001b[1;32mIn[14], line 1\u001b[0m\n\u001b[1;32m----> 1\u001b[0m fd \u001b[38;5;241m=\u001b[39m \u001b[43mpd\u001b[49m\u001b[38;5;241;43m.\u001b[39;49m\u001b[43mread_csv\u001b[49m\u001b[43m(\u001b[49m\u001b[38;5;124;43m'\u001b[39;49m\u001b[38;5;124;43m../../assets/stock_data2.csv\u001b[39;49m\u001b[38;5;124;43m'\u001b[39;49m\u001b[43m)\u001b[49m\n\u001b[0;32m      2\u001b[0m fd\u001b[38;5;241m.\u001b[39msample(\u001b[38;5;241m3\u001b[39m)\n",
      "File \u001b[1;32mc:\\Users\\Hp\\Documents\\personal\\.venv\\Lib\\site-packages\\pandas\\io\\parsers\\readers.py:948\u001b[0m, in \u001b[0;36mread_csv\u001b[1;34m(filepath_or_buffer, sep, delimiter, header, names, index_col, usecols, dtype, engine, converters, true_values, false_values, skipinitialspace, skiprows, skipfooter, nrows, na_values, keep_default_na, na_filter, verbose, skip_blank_lines, parse_dates, infer_datetime_format, keep_date_col, date_parser, date_format, dayfirst, cache_dates, iterator, chunksize, compression, thousands, decimal, lineterminator, quotechar, quoting, doublequote, escapechar, comment, encoding, encoding_errors, dialect, on_bad_lines, delim_whitespace, low_memory, memory_map, float_precision, storage_options, dtype_backend)\u001b[0m\n\u001b[0;32m    935\u001b[0m kwds_defaults \u001b[38;5;241m=\u001b[39m _refine_defaults_read(\n\u001b[0;32m    936\u001b[0m     dialect,\n\u001b[0;32m    937\u001b[0m     delimiter,\n\u001b[1;32m   (...)\u001b[0m\n\u001b[0;32m    944\u001b[0m     dtype_backend\u001b[38;5;241m=\u001b[39mdtype_backend,\n\u001b[0;32m    945\u001b[0m )\n\u001b[0;32m    946\u001b[0m kwds\u001b[38;5;241m.\u001b[39mupdate(kwds_defaults)\n\u001b[1;32m--> 948\u001b[0m \u001b[38;5;28;01mreturn\u001b[39;00m \u001b[43m_read\u001b[49m\u001b[43m(\u001b[49m\u001b[43mfilepath_or_buffer\u001b[49m\u001b[43m,\u001b[49m\u001b[43m \u001b[49m\u001b[43mkwds\u001b[49m\u001b[43m)\u001b[49m\n",
      "File \u001b[1;32mc:\\Users\\Hp\\Documents\\personal\\.venv\\Lib\\site-packages\\pandas\\io\\parsers\\readers.py:611\u001b[0m, in \u001b[0;36m_read\u001b[1;34m(filepath_or_buffer, kwds)\u001b[0m\n\u001b[0;32m    608\u001b[0m _validate_names(kwds\u001b[38;5;241m.\u001b[39mget(\u001b[38;5;124m\"\u001b[39m\u001b[38;5;124mnames\u001b[39m\u001b[38;5;124m\"\u001b[39m, \u001b[38;5;28;01mNone\u001b[39;00m))\n\u001b[0;32m    610\u001b[0m \u001b[38;5;66;03m# Create the parser.\u001b[39;00m\n\u001b[1;32m--> 611\u001b[0m parser \u001b[38;5;241m=\u001b[39m \u001b[43mTextFileReader\u001b[49m\u001b[43m(\u001b[49m\u001b[43mfilepath_or_buffer\u001b[49m\u001b[43m,\u001b[49m\u001b[43m \u001b[49m\u001b[38;5;241;43m*\u001b[39;49m\u001b[38;5;241;43m*\u001b[39;49m\u001b[43mkwds\u001b[49m\u001b[43m)\u001b[49m\n\u001b[0;32m    613\u001b[0m \u001b[38;5;28;01mif\u001b[39;00m chunksize \u001b[38;5;129;01mor\u001b[39;00m iterator:\n\u001b[0;32m    614\u001b[0m     \u001b[38;5;28;01mreturn\u001b[39;00m parser\n",
      "File \u001b[1;32mc:\\Users\\Hp\\Documents\\personal\\.venv\\Lib\\site-packages\\pandas\\io\\parsers\\readers.py:1448\u001b[0m, in \u001b[0;36mTextFileReader.__init__\u001b[1;34m(self, f, engine, **kwds)\u001b[0m\n\u001b[0;32m   1445\u001b[0m     \u001b[38;5;28mself\u001b[39m\u001b[38;5;241m.\u001b[39moptions[\u001b[38;5;124m\"\u001b[39m\u001b[38;5;124mhas_index_names\u001b[39m\u001b[38;5;124m\"\u001b[39m] \u001b[38;5;241m=\u001b[39m kwds[\u001b[38;5;124m\"\u001b[39m\u001b[38;5;124mhas_index_names\u001b[39m\u001b[38;5;124m\"\u001b[39m]\n\u001b[0;32m   1447\u001b[0m \u001b[38;5;28mself\u001b[39m\u001b[38;5;241m.\u001b[39mhandles: IOHandles \u001b[38;5;241m|\u001b[39m \u001b[38;5;28;01mNone\u001b[39;00m \u001b[38;5;241m=\u001b[39m \u001b[38;5;28;01mNone\u001b[39;00m\n\u001b[1;32m-> 1448\u001b[0m \u001b[38;5;28mself\u001b[39m\u001b[38;5;241m.\u001b[39m_engine \u001b[38;5;241m=\u001b[39m \u001b[38;5;28;43mself\u001b[39;49m\u001b[38;5;241;43m.\u001b[39;49m\u001b[43m_make_engine\u001b[49m\u001b[43m(\u001b[49m\u001b[43mf\u001b[49m\u001b[43m,\u001b[49m\u001b[43m \u001b[49m\u001b[38;5;28;43mself\u001b[39;49m\u001b[38;5;241;43m.\u001b[39;49m\u001b[43mengine\u001b[49m\u001b[43m)\u001b[49m\n",
      "File \u001b[1;32mc:\\Users\\Hp\\Documents\\personal\\.venv\\Lib\\site-packages\\pandas\\io\\parsers\\readers.py:1705\u001b[0m, in \u001b[0;36mTextFileReader._make_engine\u001b[1;34m(self, f, engine)\u001b[0m\n\u001b[0;32m   1703\u001b[0m     \u001b[38;5;28;01mif\u001b[39;00m \u001b[38;5;124m\"\u001b[39m\u001b[38;5;124mb\u001b[39m\u001b[38;5;124m\"\u001b[39m \u001b[38;5;129;01mnot\u001b[39;00m \u001b[38;5;129;01min\u001b[39;00m mode:\n\u001b[0;32m   1704\u001b[0m         mode \u001b[38;5;241m+\u001b[39m\u001b[38;5;241m=\u001b[39m \u001b[38;5;124m\"\u001b[39m\u001b[38;5;124mb\u001b[39m\u001b[38;5;124m\"\u001b[39m\n\u001b[1;32m-> 1705\u001b[0m \u001b[38;5;28mself\u001b[39m\u001b[38;5;241m.\u001b[39mhandles \u001b[38;5;241m=\u001b[39m \u001b[43mget_handle\u001b[49m\u001b[43m(\u001b[49m\n\u001b[0;32m   1706\u001b[0m \u001b[43m    \u001b[49m\u001b[43mf\u001b[49m\u001b[43m,\u001b[49m\n\u001b[0;32m   1707\u001b[0m \u001b[43m    \u001b[49m\u001b[43mmode\u001b[49m\u001b[43m,\u001b[49m\n\u001b[0;32m   1708\u001b[0m \u001b[43m    \u001b[49m\u001b[43mencoding\u001b[49m\u001b[38;5;241;43m=\u001b[39;49m\u001b[38;5;28;43mself\u001b[39;49m\u001b[38;5;241;43m.\u001b[39;49m\u001b[43moptions\u001b[49m\u001b[38;5;241;43m.\u001b[39;49m\u001b[43mget\u001b[49m\u001b[43m(\u001b[49m\u001b[38;5;124;43m\"\u001b[39;49m\u001b[38;5;124;43mencoding\u001b[39;49m\u001b[38;5;124;43m\"\u001b[39;49m\u001b[43m,\u001b[49m\u001b[43m \u001b[49m\u001b[38;5;28;43;01mNone\u001b[39;49;00m\u001b[43m)\u001b[49m\u001b[43m,\u001b[49m\n\u001b[0;32m   1709\u001b[0m \u001b[43m    \u001b[49m\u001b[43mcompression\u001b[49m\u001b[38;5;241;43m=\u001b[39;49m\u001b[38;5;28;43mself\u001b[39;49m\u001b[38;5;241;43m.\u001b[39;49m\u001b[43moptions\u001b[49m\u001b[38;5;241;43m.\u001b[39;49m\u001b[43mget\u001b[49m\u001b[43m(\u001b[49m\u001b[38;5;124;43m\"\u001b[39;49m\u001b[38;5;124;43mcompression\u001b[39;49m\u001b[38;5;124;43m\"\u001b[39;49m\u001b[43m,\u001b[49m\u001b[43m \u001b[49m\u001b[38;5;28;43;01mNone\u001b[39;49;00m\u001b[43m)\u001b[49m\u001b[43m,\u001b[49m\n\u001b[0;32m   1710\u001b[0m \u001b[43m    \u001b[49m\u001b[43mmemory_map\u001b[49m\u001b[38;5;241;43m=\u001b[39;49m\u001b[38;5;28;43mself\u001b[39;49m\u001b[38;5;241;43m.\u001b[39;49m\u001b[43moptions\u001b[49m\u001b[38;5;241;43m.\u001b[39;49m\u001b[43mget\u001b[49m\u001b[43m(\u001b[49m\u001b[38;5;124;43m\"\u001b[39;49m\u001b[38;5;124;43mmemory_map\u001b[39;49m\u001b[38;5;124;43m\"\u001b[39;49m\u001b[43m,\u001b[49m\u001b[43m \u001b[49m\u001b[38;5;28;43;01mFalse\u001b[39;49;00m\u001b[43m)\u001b[49m\u001b[43m,\u001b[49m\n\u001b[0;32m   1711\u001b[0m \u001b[43m    \u001b[49m\u001b[43mis_text\u001b[49m\u001b[38;5;241;43m=\u001b[39;49m\u001b[43mis_text\u001b[49m\u001b[43m,\u001b[49m\n\u001b[0;32m   1712\u001b[0m \u001b[43m    \u001b[49m\u001b[43merrors\u001b[49m\u001b[38;5;241;43m=\u001b[39;49m\u001b[38;5;28;43mself\u001b[39;49m\u001b[38;5;241;43m.\u001b[39;49m\u001b[43moptions\u001b[49m\u001b[38;5;241;43m.\u001b[39;49m\u001b[43mget\u001b[49m\u001b[43m(\u001b[49m\u001b[38;5;124;43m\"\u001b[39;49m\u001b[38;5;124;43mencoding_errors\u001b[39;49m\u001b[38;5;124;43m\"\u001b[39;49m\u001b[43m,\u001b[49m\u001b[43m \u001b[49m\u001b[38;5;124;43m\"\u001b[39;49m\u001b[38;5;124;43mstrict\u001b[39;49m\u001b[38;5;124;43m\"\u001b[39;49m\u001b[43m)\u001b[49m\u001b[43m,\u001b[49m\n\u001b[0;32m   1713\u001b[0m \u001b[43m    \u001b[49m\u001b[43mstorage_options\u001b[49m\u001b[38;5;241;43m=\u001b[39;49m\u001b[38;5;28;43mself\u001b[39;49m\u001b[38;5;241;43m.\u001b[39;49m\u001b[43moptions\u001b[49m\u001b[38;5;241;43m.\u001b[39;49m\u001b[43mget\u001b[49m\u001b[43m(\u001b[49m\u001b[38;5;124;43m\"\u001b[39;49m\u001b[38;5;124;43mstorage_options\u001b[39;49m\u001b[38;5;124;43m\"\u001b[39;49m\u001b[43m,\u001b[49m\u001b[43m \u001b[49m\u001b[38;5;28;43;01mNone\u001b[39;49;00m\u001b[43m)\u001b[49m\u001b[43m,\u001b[49m\n\u001b[0;32m   1714\u001b[0m \u001b[43m\u001b[49m\u001b[43m)\u001b[49m\n\u001b[0;32m   1715\u001b[0m \u001b[38;5;28;01massert\u001b[39;00m \u001b[38;5;28mself\u001b[39m\u001b[38;5;241m.\u001b[39mhandles \u001b[38;5;129;01mis\u001b[39;00m \u001b[38;5;129;01mnot\u001b[39;00m \u001b[38;5;28;01mNone\u001b[39;00m\n\u001b[0;32m   1716\u001b[0m f \u001b[38;5;241m=\u001b[39m \u001b[38;5;28mself\u001b[39m\u001b[38;5;241m.\u001b[39mhandles\u001b[38;5;241m.\u001b[39mhandle\n",
      "File \u001b[1;32mc:\\Users\\Hp\\Documents\\personal\\.venv\\Lib\\site-packages\\pandas\\io\\common.py:863\u001b[0m, in \u001b[0;36mget_handle\u001b[1;34m(path_or_buf, mode, encoding, compression, memory_map, is_text, errors, storage_options)\u001b[0m\n\u001b[0;32m    858\u001b[0m \u001b[38;5;28;01melif\u001b[39;00m \u001b[38;5;28misinstance\u001b[39m(handle, \u001b[38;5;28mstr\u001b[39m):\n\u001b[0;32m    859\u001b[0m     \u001b[38;5;66;03m# Check whether the filename is to be opened in binary mode.\u001b[39;00m\n\u001b[0;32m    860\u001b[0m     \u001b[38;5;66;03m# Binary mode does not support 'encoding' and 'newline'.\u001b[39;00m\n\u001b[0;32m    861\u001b[0m     \u001b[38;5;28;01mif\u001b[39;00m ioargs\u001b[38;5;241m.\u001b[39mencoding \u001b[38;5;129;01mand\u001b[39;00m \u001b[38;5;124m\"\u001b[39m\u001b[38;5;124mb\u001b[39m\u001b[38;5;124m\"\u001b[39m \u001b[38;5;129;01mnot\u001b[39;00m \u001b[38;5;129;01min\u001b[39;00m ioargs\u001b[38;5;241m.\u001b[39mmode:\n\u001b[0;32m    862\u001b[0m         \u001b[38;5;66;03m# Encoding\u001b[39;00m\n\u001b[1;32m--> 863\u001b[0m         handle \u001b[38;5;241m=\u001b[39m \u001b[38;5;28;43mopen\u001b[39;49m\u001b[43m(\u001b[49m\n\u001b[0;32m    864\u001b[0m \u001b[43m            \u001b[49m\u001b[43mhandle\u001b[49m\u001b[43m,\u001b[49m\n\u001b[0;32m    865\u001b[0m \u001b[43m            \u001b[49m\u001b[43mioargs\u001b[49m\u001b[38;5;241;43m.\u001b[39;49m\u001b[43mmode\u001b[49m\u001b[43m,\u001b[49m\n\u001b[0;32m    866\u001b[0m \u001b[43m            \u001b[49m\u001b[43mencoding\u001b[49m\u001b[38;5;241;43m=\u001b[39;49m\u001b[43mioargs\u001b[49m\u001b[38;5;241;43m.\u001b[39;49m\u001b[43mencoding\u001b[49m\u001b[43m,\u001b[49m\n\u001b[0;32m    867\u001b[0m \u001b[43m            \u001b[49m\u001b[43merrors\u001b[49m\u001b[38;5;241;43m=\u001b[39;49m\u001b[43merrors\u001b[49m\u001b[43m,\u001b[49m\n\u001b[0;32m    868\u001b[0m \u001b[43m            \u001b[49m\u001b[43mnewline\u001b[49m\u001b[38;5;241;43m=\u001b[39;49m\u001b[38;5;124;43m\"\u001b[39;49m\u001b[38;5;124;43m\"\u001b[39;49m\u001b[43m,\u001b[49m\n\u001b[0;32m    869\u001b[0m \u001b[43m        \u001b[49m\u001b[43m)\u001b[49m\n\u001b[0;32m    870\u001b[0m     \u001b[38;5;28;01melse\u001b[39;00m:\n\u001b[0;32m    871\u001b[0m         \u001b[38;5;66;03m# Binary mode\u001b[39;00m\n\u001b[0;32m    872\u001b[0m         handle \u001b[38;5;241m=\u001b[39m \u001b[38;5;28mopen\u001b[39m(handle, ioargs\u001b[38;5;241m.\u001b[39mmode)\n",
      "\u001b[1;31mFileNotFoundError\u001b[0m: [Errno 2] No such file or directory: '../../assets/stock_data2.csv'"
     ]
    }
   ],
   "source": [
    "fd = pd.read_csv('../../assets/stock_data2.csv')\n",
    "fd.sample(3)"
   ]
  },
  {
   "cell_type": "code",
   "execution_count": 8,
   "metadata": {},
   "outputs": [
    {
     "name": "stdout",
     "output_type": "stream",
     "text": [
      "[*********************100%%**********************]  1 of 1 completed\n"
     ]
    }
   ],
   "source": [
    "df2 = get_stock_data(fd.Symbol[0], \"2013-01-01\")"
   ]
  },
  {
   "cell_type": "code",
   "execution_count": 9,
   "metadata": {},
   "outputs": [
    {
     "name": "stdout",
     "output_type": "stream",
     "text": [
      "[*********************100%%**********************]  1 of 1 completed\n"
     ]
    },
    {
     "data": {
      "text/html": [
       "<div>\n",
       "<style scoped>\n",
       "    .dataframe tbody tr th:only-of-type {\n",
       "        vertical-align: middle;\n",
       "    }\n",
       "\n",
       "    .dataframe tbody tr th {\n",
       "        vertical-align: top;\n",
       "    }\n",
       "\n",
       "    .dataframe thead th {\n",
       "        text-align: right;\n",
       "    }\n",
       "</style>\n",
       "<table border=\"1\" class=\"dataframe\">\n",
       "  <thead>\n",
       "    <tr style=\"text-align: right;\">\n",
       "      <th></th>\n",
       "      <th>Date</th>\n",
       "      <th>Open</th>\n",
       "      <th>High</th>\n",
       "      <th>Low</th>\n",
       "      <th>Close</th>\n",
       "      <th>Adj Close</th>\n",
       "      <th>Volume</th>\n",
       "      <th>Symbol</th>\n",
       "    </tr>\n",
       "  </thead>\n",
       "  <tbody>\n",
       "    <tr>\n",
       "      <th>2023-10-09</th>\n",
       "      <td>2023-10-09</td>\n",
       "      <td>3645.050049</td>\n",
       "      <td>3679.000000</td>\n",
       "      <td>3631.000000</td>\n",
       "      <td>3638.350098</td>\n",
       "      <td>3638.350098</td>\n",
       "      <td>4233074.0</td>\n",
       "      <td>TCS.NS</td>\n",
       "    </tr>\n",
       "    <tr>\n",
       "      <th>2023-10-10</th>\n",
       "      <td>2023-10-10</td>\n",
       "      <td>3640.050049</td>\n",
       "      <td>3648.000000</td>\n",
       "      <td>3601.350098</td>\n",
       "      <td>3628.899902</td>\n",
       "      <td>3628.899902</td>\n",
       "      <td>1848148.0</td>\n",
       "      <td>TCS.NS</td>\n",
       "    </tr>\n",
       "    <tr>\n",
       "      <th>2023-10-11</th>\n",
       "      <td>2023-10-11</td>\n",
       "      <td>3650.000000</td>\n",
       "      <td>3650.000000</td>\n",
       "      <td>3605.000000</td>\n",
       "      <td>3609.899902</td>\n",
       "      <td>3609.899902</td>\n",
       "      <td>2426417.0</td>\n",
       "      <td>TCS.NS</td>\n",
       "    </tr>\n",
       "    <tr>\n",
       "      <th>2023-10-12</th>\n",
       "      <td>2023-10-12</td>\n",
       "      <td>3575.000000</td>\n",
       "      <td>3588.649902</td>\n",
       "      <td>3538.100098</td>\n",
       "      <td>3542.550049</td>\n",
       "      <td>3542.550049</td>\n",
       "      <td>4241281.0</td>\n",
       "      <td>TCS.NS</td>\n",
       "    </tr>\n",
       "    <tr>\n",
       "      <th>2023-10-13</th>\n",
       "      <td>2023-10-13</td>\n",
       "      <td>3530.000000</td>\n",
       "      <td>3577.000000</td>\n",
       "      <td>3525.000000</td>\n",
       "      <td>3570.850098</td>\n",
       "      <td>3570.850098</td>\n",
       "      <td>2890357.0</td>\n",
       "      <td>TCS.NS</td>\n",
       "    </tr>\n",
       "    <tr>\n",
       "      <th>2023-10-14</th>\n",
       "      <td>2023-10-14</td>\n",
       "      <td>NaN</td>\n",
       "      <td>NaN</td>\n",
       "      <td>NaN</td>\n",
       "      <td>NaN</td>\n",
       "      <td>NaN</td>\n",
       "      <td>NaN</td>\n",
       "      <td>TCS.NS</td>\n",
       "    </tr>\n",
       "  </tbody>\n",
       "</table>\n",
       "</div>"
      ],
      "text/plain": [
       "                 Date         Open         High          Low        Close  \\\n",
       "2023-10-09 2023-10-09  3645.050049  3679.000000  3631.000000  3638.350098   \n",
       "2023-10-10 2023-10-10  3640.050049  3648.000000  3601.350098  3628.899902   \n",
       "2023-10-11 2023-10-11  3650.000000  3650.000000  3605.000000  3609.899902   \n",
       "2023-10-12 2023-10-12  3575.000000  3588.649902  3538.100098  3542.550049   \n",
       "2023-10-13 2023-10-13  3530.000000  3577.000000  3525.000000  3570.850098   \n",
       "2023-10-14 2023-10-14          NaN          NaN          NaN          NaN   \n",
       "\n",
       "              Adj Close     Volume  Symbol  \n",
       "2023-10-09  3638.350098  4233074.0  TCS.NS  \n",
       "2023-10-10  3628.899902  1848148.0  TCS.NS  \n",
       "2023-10-11  3609.899902  2426417.0  TCS.NS  \n",
       "2023-10-12  3542.550049  4241281.0  TCS.NS  \n",
       "2023-10-13  3570.850098  2890357.0  TCS.NS  \n",
       "2023-10-14          NaN        NaN  TCS.NS  "
      ]
     },
     "execution_count": 9,
     "metadata": {},
     "output_type": "execute_result"
    }
   ],
   "source": [
    "df1 = get_stock_data(fd.Symbol[1], \"2023-10-09\")\n",
    "df1"
   ]
  },
  {
   "cell_type": "code",
   "execution_count": null,
   "metadata": {},
   "outputs": [],
   "source": [
    "\n",
    "stock_having_pro = list()\n",
    "final_df = pd.DataFrame()\n",
    "for i in range(0,1000):#\n",
    "    try:\n",
    "        df = get_stock_data(fd.Symbol[i], \"2023-10-09\")\n",
    "        final_df = pd.concat([final_df, df])\n",
    "    except:\n",
    "        stock_having_pro.append(fd.Symbol[i])\n"
   ]
  },
  {
   "cell_type": "code",
   "execution_count": 21,
   "metadata": {},
   "outputs": [],
   "source": [
    "# final_df.to_csv('../../assets/stock_historical_data.csv', index=False)\n",
    "# previous_df = pd.read_csv('../../assets/stock_historical_data.csv')\n",
    "# previous_df.info()\n",
    "pd.concat([previous_df, final_df]).to_csv('../../assets/stock_historical_data.csv', index=False)"
   ]
  },
  {
   "cell_type": "code",
   "execution_count": 46,
   "metadata": {},
   "outputs": [],
   "source": [
    "# historical_data = pd.read_csv('../../assets/stock_historical_data.csv')\n",
    "# historical_data.head()\n",
    "historical_data['Date'] = pd.to_datetime(historical_data.Date, format='mixed')\n",
    "historical_data.set_index('Date', inplace=True)"
   ]
  },
  {
   "cell_type": "code",
   "execution_count": 36,
   "metadata": {},
   "outputs": [],
   "source": [
    "def get_volume_case(df, factor=1):\n",
    "    vol = df.Volume.to_frame()\n",
    "    vol['shift1'] = vol['Volume'].shift(1)\n",
    "    vol['shift2'] = vol['Volume'].shift(2)\n",
    "    vol['case1'] = vol.apply(lambda x: x[0]<=x[1]*factor and x[1]<=x[2]*factor, axis=1)\n",
    "    case1 = vol.loc[vol['case1']]\n",
    "    return case1\n",
    "\n",
    "def get_high_low_case(df, factor_bool=False):\n",
    "    hldf = df[['High', 'Low']]\n",
    "    factor = 0\n",
    "    if factor_bool:    \n",
    "        open = df.Open.tolist()[-1]\n",
    "        if open>= 1000:\n",
    "            factor = 0.01\n",
    "        elif open >= 700:\n",
    "            factor = 0.02\n",
    "        elif open >= 400:\n",
    "            factor = 0.03\n",
    "        elif open>= 100:\n",
    "            factor = 0.04\n",
    "        else:\n",
    "            factor = 0.05\n",
    "    high_factor, low_factor = 1 + factor, 1 - factor\n",
    "    hldf['highshift1'] = hldf['High'].shift(1)\n",
    "    hldf['highshift2'] = hldf['High'].shift(2)\n",
    "    hldf['lowshift1'] = hldf['Low'].shift(1)\n",
    "    hldf['lowshift2'] = hldf['Low'].shift(2)\n",
    "    hldf\n",
    "    hldf['case2'] = hldf.apply(lambda x: x['High']<=x['highshift1']*high_factor and x['highshift1']<=x['highshift2']*high_factor and x['Low']>=x['lowshift1']*low_factor and x['lowshift1']>=x['lowshift2']*low_factor, axis=1)\n",
    "    case2 = hldf.loc[hldf.case2]\n",
    "    return case2"
   ]
  },
  {
   "cell_type": "code",
   "execution_count": 59,
   "metadata": {},
   "outputs": [],
   "source": [
    "unique_symbol = historical_data.Symbol.unique().tolist()\n",
    "current_eligible = {'strict':[], 'some_strict':[]}\n",
    "problem_stock = list()\n",
    "for i in range(0, 1000):#len(unique_symbol)\n",
    "    symbol = unique_symbol[i]\n",
    "    try:\n",
    "            \n",
    "        # ic(symbol)\n",
    "        df = historical_data.query('Symbol == @symbol')\n",
    "        df = df.loc[datetime.now()-timedelta(weeks=3):]\n",
    "        dfw = df.resample('W-Fri').agg(ohlc_dict).iloc[:3]\n",
    "        # ic(dfw)\n",
    "        #strict\n",
    "        case1 = get_volume_case(dfw, 1)\n",
    "        case2 = get_high_low_case(dfw, False)\n",
    "        final_df = case1.join(case2, how='inner')\n",
    "        if final_df.shape[0] != 0:\n",
    "            current_eligible['strict'].append(symbol)\n",
    "        \n",
    "        #strict some\n",
    "        case1 = get_volume_case(dfw, 1.05)\n",
    "        case2 = get_high_low_case(dfw, True)\n",
    "        final_df = case1.join(case2, how='inner')\n",
    "        if final_df.shape[0] != 0:\n",
    "            current_eligible['some_strict'].append(symbol)\n",
    "    except:\n",
    "        problem_stock.append(symbol)\n",
    "    "
   ]
  },
  {
   "cell_type": "code",
   "execution_count": 60,
   "metadata": {},
   "outputs": [],
   "source": [
    "st1 = pd.DataFrame.from_dict(current_eligible['strict'])\n",
    "st1['case'] = 'strict'\n",
    "st2 = pd.DataFrame.from_dict([i for i in current_eligible['some_strict'] if i not in current_eligible['strict']])\n",
    "st2['case'] = 'some_strict'"
   ]
  },
  {
   "cell_type": "code",
   "execution_count": 61,
   "metadata": {},
   "outputs": [],
   "source": [
    "pd.concat([st1, st2]).to_csv(f'../../assets/{date.today()}.csv', index=False)"
   ]
  },
  {
   "cell_type": "code",
   "execution_count": 62,
   "metadata": {},
   "outputs": [
    {
     "data": {
      "text/plain": [
       "{'strict': ['TATAINVEST.NS', 'GREENLAM.NS', 'BARBEQUE.NS'],\n",
       " 'some_strict': ['ICICIBANK.NS',\n",
       "  'TITAN.NS',\n",
       "  'SUNPHARMA.NS',\n",
       "  'NTPC.NS',\n",
       "  'GODREJCP.NS',\n",
       "  'DABUR.NS',\n",
       "  'PNB.NS',\n",
       "  'VEDL.NS',\n",
       "  'RECLTD.NS',\n",
       "  'CANBK.NS',\n",
       "  'BERGEPAINT.NS',\n",
       "  'HAL.NS',\n",
       "  'ICICIGI.NS',\n",
       "  'TORNTPHARM.NS',\n",
       "  'ZYDUSLIFE.NS',\n",
       "  'PGHH.NS',\n",
       "  'NHPC.NS',\n",
       "  'YESBANK.NS',\n",
       "  'ABCAPITAL.NS',\n",
       "  'PAGEIND.NS',\n",
       "  'CENTRALBK.NS',\n",
       "  'NYKAA.NS',\n",
       "  'FEDERALBNK.NS',\n",
       "  'UNOMINDA.NS',\n",
       "  'DEVYANI.NS',\n",
       "  'NIACL.NS',\n",
       "  'GLENMARK.NS',\n",
       "  'IDFC.NS',\n",
       "  'HUDCO.NS',\n",
       "  'TATAINVEST.NS',\n",
       "  'ASAHIINDIA.NS',\n",
       "  'RBLBANK.NS',\n",
       "  'COCHINSHIP.NS',\n",
       "  'FINPIPE.NS',\n",
       "  'NUVOCO.NS',\n",
       "  'ERIS.NS',\n",
       "  'MANAPPURAM.NS',\n",
       "  'AEGISCHEM.NS',\n",
       "  'KARURVYSYA.NS',\n",
       "  'CANFINHOME.NS',\n",
       "  'GRSE.NS',\n",
       "  'KRBL.NS',\n",
       "  'GRANULES.NS',\n",
       "  'IONEXCHANG.NS',\n",
       "  'SPARC.NS',\n",
       "  'SAREGAMA.NS',\n",
       "  'NAVA.NS',\n",
       "  'ALLCARGO.NS',\n",
       "  'RBA.NS',\n",
       "  'HNDFDS.NS',\n",
       "  'BORORENEW.NS',\n",
       "  'SOUTHBANK.NS',\n",
       "  'GREENLAM.NS',\n",
       "  'GREENPANEL.NS',\n",
       "  'STAR.NS',\n",
       "  'HCC.NS',\n",
       "  'IFBIND.NS',\n",
       "  'UFLEX.NS',\n",
       "  'JINDALPOLY.NS',\n",
       "  'BARBEQUE.NS',\n",
       "  'TARSONS.NS',\n",
       "  'CAMLINFINE.NS',\n",
       "  'DREAMFOLKS.NS',\n",
       "  'PARAGMILK.NS',\n",
       "  'PRECWIRE.NS',\n",
       "  'SJS.NS',\n",
       "  'DHAMPURSUG.NS',\n",
       "  'SADHNANIQ.NS',\n",
       "  'TCPLPACK.NS',\n",
       "  'IGARASHI.NS',\n",
       "  'DWARKESH.NS',\n",
       "  'UDAICEMENT.NS',\n",
       "  'AHL.NS']}"
      ]
     },
     "execution_count": 62,
     "metadata": {},
     "output_type": "execute_result"
    }
   ],
   "source": [
    "current_eligible"
   ]
  },
  {
   "cell_type": "code",
   "execution_count": 57,
   "metadata": {},
   "outputs": [
    {
     "data": {
      "text/plain": [
       "0"
      ]
     },
     "execution_count": 57,
     "metadata": {},
     "output_type": "execute_result"
    }
   ],
   "source": [
    "len(problem_stock)"
   ]
  },
  {
   "cell_type": "code",
   "execution_count": null,
   "metadata": {},
   "outputs": [],
   "source": []
  }
 ],
 "metadata": {
  "kernelspec": {
   "display_name": ".venv",
   "language": "python",
   "name": "python3"
  },
  "language_info": {
   "codemirror_mode": {
    "name": "ipython",
    "version": 3
   },
   "file_extension": ".py",
   "mimetype": "text/x-python",
   "name": "python",
   "nbconvert_exporter": "python",
   "pygments_lexer": "ipython3",
   "version": "3.11.5"
  }
 },
 "nbformat": 4,
 "nbformat_minor": 2
}
